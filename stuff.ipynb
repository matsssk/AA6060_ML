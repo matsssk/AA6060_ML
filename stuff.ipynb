{
 "cells": [
  {
   "cell_type": "code",
   "execution_count": 1,
   "metadata": {},
   "outputs": [],
   "source": [
    "# import os\n",
    "# import json\n",
    "# import pandas as pd\n",
    "\n",
    "# path = 'tuning_results_ANN/ANN/'\n",
    "# folders = os.listdir(path)\n",
    "# folders = [folder for folder in folders if not folder.endswith(\"32\")]\n",
    "\n",
    "# hyperparams = []\n",
    "# val_rmse_values = []\n",
    "\n",
    "# for folder in folders: \n",
    "#     if folder.startswith(\"trial\"): \n",
    "#         files_in_folder = os.listdir(path + folder)\n",
    "#         for file in files_in_folder:\n",
    "#             if file.startswith(\"trial\"):\n",
    "               \n",
    "#                 with open(path + folder + '/' + file, 'r') as f:\n",
    "#                     content = json.load(f)\n",
    "                \n",
    "              \n",
    "#                 hyperparameters = content['hyperparameters']['values']\n",
    "#                 neurons = hyperparameters['neurons']\n",
    "#                 num_hidden_layers = hyperparameters['num_hidden_layers']\n",
    "#                 loss_function = hyperparameters['loss']\n",
    "#                 batch_size = hyperparameters['batch_size']\n",
    "              \n",
    "#                 val_rmse = content['metrics']['metrics']['val_rmse']['observations'][0]['value'][0]\n",
    "                \n",
    "#                 hyperparams.append((neurons, num_hidden_layers, loss_function, batch_size))\n",
    "#                 val_rmse_values.append(val_rmse)\n",
    "\n",
    "# hyperparams_df = pd.DataFrame(list(zip(val_rmse_values, *zip(*hyperparams))), columns=['val_rmse', 'neurons', 'num_hidden_layers', 'loss_function', 'batch_size']).sort_values(by=\"val_rmse\")\n",
    "\n",
    "#hyperparams_df.to_csv(\"tuning_results_ANN/noenyshit.csv\", index=False, sep=\"\\t\")"
   ]
  },
  {
   "cell_type": "code",
   "execution_count": null,
   "metadata": {},
   "outputs": [],
   "source": [
    "\n"
   ]
  }
 ],
 "metadata": {
  "kernelspec": {
   "display_name": "Python 3",
   "language": "python",
   "name": "python3"
  },
  "language_info": {
   "codemirror_mode": {
    "name": "ipython",
    "version": 3
   },
   "file_extension": ".py",
   "mimetype": "text/x-python",
   "name": "python",
   "nbconvert_exporter": "python",
   "pygments_lexer": "ipython3",
   "version": "3.10.10"
  },
  "orig_nbformat": 4
 },
 "nbformat": 4,
 "nbformat_minor": 2
}
